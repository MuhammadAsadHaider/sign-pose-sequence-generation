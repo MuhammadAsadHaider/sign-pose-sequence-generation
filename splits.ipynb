{
 "cells": [
  {
   "cell_type": "code",
   "execution_count": 6,
   "metadata": {},
   "outputs": [],
   "source": [
    "import os\n",
    "import random"
   ]
  },
  {
   "cell_type": "code",
   "execution_count": 8,
   "metadata": {},
   "outputs": [],
   "source": [
    "seed = 42\n",
    "random.seed(seed)"
   ]
  },
  {
   "cell_type": "code",
   "execution_count": 17,
   "metadata": {},
   "outputs": [],
   "source": [
    "all_files = os.listdir('F:/Datasets/H2S')"
   ]
  },
  {
   "cell_type": "code",
   "execution_count": 18,
   "metadata": {},
   "outputs": [],
   "source": [
    "all_files = [file.split('.')[0] for file in all_files]"
   ]
  },
  {
   "cell_type": "code",
   "execution_count": 19,
   "metadata": {},
   "outputs": [],
   "source": [
    "# shuffle the files\n",
    "random.shuffle(all_files)"
   ]
  },
  {
   "cell_type": "code",
   "execution_count": 20,
   "metadata": {},
   "outputs": [],
   "source": [
    "# train 80%, validation 10%, test 10%\n",
    "train_files = all_files[:int(len(all_files) * 0.8)]\n",
    "validation_files = all_files[int(len(all_files) * 0.8):int(len(all_files) * 0.9)]\n",
    "test_files = all_files[int(len(all_files) * 0.9):]"
   ]
  },
  {
   "cell_type": "code",
   "execution_count": 21,
   "metadata": {},
   "outputs": [],
   "source": [
    "# save the files to txt\n",
    "with open('train.txt', 'w') as f:\n",
    "    for file in train_files:\n",
    "        f.write(file + '\\n')\n",
    "\n",
    "with open('val.txt', 'w') as f:\n",
    "    for file in validation_files:\n",
    "        f.write(file + '\\n')\n",
    "\n",
    "with open('test.txt', 'w') as f:\n",
    "    for file in test_files:\n",
    "        f.write(file + '\\n')"
   ]
  },
  {
   "cell_type": "code",
   "execution_count": null,
   "metadata": {},
   "outputs": [],
   "source": []
  }
 ],
 "metadata": {
  "kernelspec": {
   "display_name": "Python 3",
   "language": "python",
   "name": "python3"
  },
  "language_info": {
   "codemirror_mode": {
    "name": "ipython",
    "version": 3
   },
   "file_extension": ".py",
   "mimetype": "text/x-python",
   "name": "python",
   "nbconvert_exporter": "python",
   "pygments_lexer": "ipython3",
   "version": "3.10.5"
  },
  "orig_nbformat": 4
 },
 "nbformat": 4,
 "nbformat_minor": 2
}
