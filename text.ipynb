{
 "cells": [
  {
   "cell_type": "code",
   "execution_count": 1,
   "metadata": {},
   "outputs": [],
   "source": [
    "import numpy as np\n",
    "import os\n",
    "from tqdm import tqdm\n",
    "import pandas as pd"
   ]
  },
  {
   "cell_type": "code",
   "execution_count": 12,
   "metadata": {},
   "outputs": [
    {
     "name": "stderr",
     "output_type": "stream",
     "text": [
      "c:\\Program Files\\Python310\\lib\\site-packages\\requests\\__init__.py:109: RequestsDependencyWarning: urllib3 (1.26.16) or chardet (5.1.0)/charset_normalizer (2.0.12) doesn't match a supported version!\n",
      "  warnings.warn(\n"
     ]
    }
   ],
   "source": [
    "import spacy\n",
    "import codecs as cs"
   ]
  },
  {
   "cell_type": "code",
   "execution_count": 5,
   "metadata": {},
   "outputs": [],
   "source": [
    "df = pd.read_csv('F:/Datasets/how2sign_realigned_train.csv', sep='\\t')"
   ]
  },
  {
   "cell_type": "code",
   "execution_count": 8,
   "metadata": {},
   "outputs": [],
   "source": [
    "df = df[['SENTENCE_NAME', 'SENTENCE']]"
   ]
  },
  {
   "cell_type": "code",
   "execution_count": 13,
   "metadata": {},
   "outputs": [],
   "source": [
    "nlp = spacy.load('en_core_web_sm')"
   ]
  },
  {
   "cell_type": "code",
   "execution_count": 14,
   "metadata": {},
   "outputs": [],
   "source": [
    "def process_text(sentence):\n",
    "    sentence = sentence.replace('-', '')\n",
    "    doc = nlp(sentence)\n",
    "    word_list = []\n",
    "    pos_list = []\n",
    "    for token in doc:\n",
    "        word = token.text\n",
    "        if not word.isalpha():\n",
    "            continue\n",
    "        if (token.pos_ == 'NOUN' or token.pos_ == 'VERB') and (word != 'left'):\n",
    "            word_list.append(token.lemma_)\n",
    "        else:\n",
    "            word_list.append(word)\n",
    "        pos_list.append(token.pos_)\n",
    "    return word_list, pos_list"
   ]
  },
  {
   "cell_type": "code",
   "execution_count": 16,
   "metadata": {},
   "outputs": [],
   "source": [
    "# add 2 columns to df\n",
    "df['TEXT'] = ''"
   ]
  },
  {
   "cell_type": "code",
   "execution_count": 17,
   "metadata": {},
   "outputs": [
    {
     "name": "stderr",
     "output_type": "stream",
     "text": [
      "100%|██████████| 31165/31165 [07:56<00:00, 65.40it/s]\n"
     ]
    }
   ],
   "source": [
    "# iterate through all the sentences\n",
    "for i in tqdm(range(df.shape[0])):\n",
    "    caption = df.iloc[i]['SENTENCE']\n",
    "    word_list, pos_list = process_text(caption)\n",
    "    start = 0.0\n",
    "    end = 0.0\n",
    "    tokens = ' '.join(['%s/%s' % (word_list[i], pos_list[i]) for i in range(len(word_list))])\n",
    "    temp = '%s#%s#%s#%s' % (caption, tokens, start, end)\n",
    "    df.at[i, 'TEXT'] = temp"
   ]
  },
  {
   "cell_type": "code",
   "execution_count": 18,
   "metadata": {},
   "outputs": [],
   "source": [
    "df.to_csv('F:/Datasets/text.csv', index=False)"
   ]
  }
 ],
 "metadata": {
  "kernelspec": {
   "display_name": "Python 3",
   "language": "python",
   "name": "python3"
  },
  "language_info": {
   "codemirror_mode": {
    "name": "ipython",
    "version": 3
   },
   "file_extension": ".py",
   "mimetype": "text/x-python",
   "name": "python",
   "nbconvert_exporter": "python",
   "pygments_lexer": "ipython3",
   "version": "3.10.5"
  },
  "orig_nbformat": 4
 },
 "nbformat": 4,
 "nbformat_minor": 2
}
