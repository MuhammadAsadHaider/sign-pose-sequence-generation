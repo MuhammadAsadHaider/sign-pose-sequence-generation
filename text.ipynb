{
 "cells": [
  {
   "cell_type": "code",
   "execution_count": 33,
   "metadata": {},
   "outputs": [],
   "source": [
    "import numpy as np\n",
    "import os\n",
    "from tqdm import tqdm\n",
    "import pandas as pd"
   ]
  },
  {
   "cell_type": "code",
   "execution_count": 34,
   "metadata": {},
   "outputs": [],
   "source": [
    "import spacy\n",
    "import codecs as cs"
   ]
  },
  {
   "cell_type": "code",
   "execution_count": 52,
   "metadata": {},
   "outputs": [],
   "source": [
    "df = pd.read_csv('F:/Datasets/how2sign_realigned_train.csv', sep='\\t')"
   ]
  },
  {
   "cell_type": "code",
   "execution_count": 53,
   "metadata": {},
   "outputs": [],
   "source": [
    "df = df[['SENTENCE_NAME', 'SENTENCE']]"
   ]
  },
  {
   "cell_type": "code",
   "execution_count": 35,
   "metadata": {},
   "outputs": [],
   "source": [
    "nlp = spacy.load('en_core_web_sm')"
   ]
  },
  {
   "cell_type": "code",
   "execution_count": 55,
   "metadata": {},
   "outputs": [],
   "source": [
    "def process_text(sentence):\n",
    "    sentence = sentence.replace('-', '')\n",
    "    doc = nlp(sentence)\n",
    "    word_list = []\n",
    "    pos_list = []\n",
    "    for token in doc:\n",
    "        word = token.text\n",
    "        if not word.isalpha():\n",
    "            continue\n",
    "        if (token.pos_ == 'NOUN' or token.pos_ == 'VERB') and (word != 'left'):\n",
    "            word_list.append(token.lemma_)\n",
    "        else:\n",
    "            word_list.append(word)\n",
    "        pos_list.append(token.pos_)\n",
    "    return word_list, pos_list"
   ]
  },
  {
   "cell_type": "code",
   "execution_count": 56,
   "metadata": {},
   "outputs": [],
   "source": [
    "# add 2 columns to df\n",
    "df['TEXT'] = ''"
   ]
  },
  {
   "cell_type": "code",
   "execution_count": 57,
   "metadata": {},
   "outputs": [],
   "source": [
    "texts_folder = 'texts'\n",
    "if not os.path.exists(texts_folder):\n",
    "    os.makedirs(texts_folder)"
   ]
  },
  {
   "cell_type": "code",
   "execution_count": 58,
   "metadata": {},
   "outputs": [
    {
     "name": "stderr",
     "output_type": "stream",
     "text": [
      "100%|██████████| 31165/31165 [08:53<00:00, 58.41it/s]\n"
     ]
    }
   ],
   "source": [
    "# iterate through all the sentences\n",
    "for i in tqdm(range(df.shape[0])):\n",
    "    caption = df.iloc[i]['SENTENCE']\n",
    "    word_list, pos_list = process_text(caption)\n",
    "    start = 0.0\n",
    "    end = 0.0\n",
    "    tokens = ' '.join(['%s/%s' % (word_list[i], pos_list[i]) for i in range(len(word_list))])\n",
    "    temp = '%s#%s#%s#%s' % (caption, tokens, start, end)\n",
    "    file_name = df.iloc[i]['SENTENCE_NAME']\n",
    "    with cs.open(os.path.join(texts_folder, file_name + '.txt'), 'w', encoding='utf-8') as f:\n",
    "        f.write(temp)"
   ]
  },
  {
   "cell_type": "code",
   "execution_count": null,
   "metadata": {},
   "outputs": [],
   "source": []
  }
 ],
 "metadata": {
  "kernelspec": {
   "display_name": "Python 3",
   "language": "python",
   "name": "python3"
  },
  "language_info": {
   "codemirror_mode": {
    "name": "ipython",
    "version": 3
   },
   "file_extension": ".py",
   "mimetype": "text/x-python",
   "name": "python",
   "nbconvert_exporter": "python",
   "pygments_lexer": "ipython3",
   "version": "3.10.5"
  },
  "orig_nbformat": 4
 },
 "nbformat": 4,
 "nbformat_minor": 2
}
